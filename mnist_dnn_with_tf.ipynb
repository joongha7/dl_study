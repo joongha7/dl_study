{
  "nbformat": 4,
  "nbformat_minor": 0,
  "metadata": {
    "colab": {
      "name": "mnist_dnn_with_tf.ipynb",
      "private_outputs": true,
      "provenance": []
    },
    "kernelspec": {
      "name": "python3",
      "display_name": "Python 3"
    },
    "language_info": {
      "name": "python"
    }
  },
  "cells": [
    {
      "cell_type": "code",
      "metadata": {
        "id": "OKaCOqQcSEe-"
      },
      "source": [
        "import tensorflow as tf \n",
        "from tensorflow.keras.layers import Dense, Input\n",
        "from tensorflow.keras.datasets import mnist\n",
        "from tensorflow.keras.models import Model\n",
        "from tensorflow.keras.utils import to_categorical\n",
        "import matplotlib.pyplot as plt \n",
        "import numpy as np "
      ],
      "execution_count": null,
      "outputs": []
    },
    {
      "cell_type": "code",
      "metadata": {
        "id": "UWjGGkUzTEhY"
      },
      "source": [
        "# mnist data download \n",
        "(x_train, y_train), (x_test, y_test) = mnist.load_data()"
      ],
      "execution_count": null,
      "outputs": []
    },
    {
      "cell_type": "code",
      "metadata": {
        "id": "mdWq0KReTsJu"
      },
      "source": [
        "# visualization\n",
        "plt.imshow(x_train[0], cmap='gray')\n",
        "y_train[0]"
      ],
      "execution_count": null,
      "outputs": []
    },
    {
      "cell_type": "code",
      "metadata": {
        "id": "1Ls7JS7gVcs2"
      },
      "source": [
        "# flatten x train data \n",
        "flatten_x_train = x_train.reshape(60000, 28*28)\n",
        "# change data to onehot vector \n",
        "y_train_onehot = to_categorical(y_train, 10)\n",
        "\n",
        "# flatten x test data \n",
        "flatten_x_test = x_test.reshape(10000, 28*28)\n",
        "\n",
        "# change data to onehot vector \n",
        "y_test_onehot = to_categorical(y_test, 10)"
      ],
      "execution_count": null,
      "outputs": []
    },
    {
      "cell_type": "code",
      "metadata": {
        "id": "ccAcHF_xXlq3"
      },
      "source": [
        "# Input layer \n",
        "inputs = Input(shape=(28*28))\n",
        "\n",
        "# hidden layer \n",
        "layer_1 = Dense(units=128, activation='relu', kernel_initializer='he_normal')(inputs)\n",
        "layer_2 = Dense(units=128, activation='relu', kernel_initializer='he_normal')(layer_1)\n",
        "\n",
        "# output layer \n",
        "outputs = Dense(units=10, activation='softmax', kernel_initializer='glorot_normal')(layer_2)"
      ],
      "execution_count": null,
      "outputs": []
    },
    {
      "cell_type": "code",
      "metadata": {
        "id": "KcxNc01Ib_nH"
      },
      "source": [
        "y_test.shape, outputs"
      ],
      "execution_count": null,
      "outputs": []
    },
    {
      "cell_type": "code",
      "metadata": {
        "id": "q7hjQRRYZc4o"
      },
      "source": [
        "# Model\n",
        "model = Model(inputs, outputs)\n",
        "# Model 을 학습하는 방법\n",
        "model.compile('adam', loss='categorical_crossentropy', metrics=['acc'])"
      ],
      "execution_count": null,
      "outputs": []
    },
    {
      "cell_type": "code",
      "metadata": {
        "id": "Q9w2sS0HaUEI"
      },
      "source": [
        "# 모델 \n",
        "model.fit(x=flatten_x_train, y=y_train_onehot, \n",
        "          validation_data=(flatten_x_test, y_test_onehot))"
      ],
      "execution_count": null,
      "outputs": []
    },
    {
      "cell_type": "code",
      "metadata": {
        "id": "jIZjGLVWdeyo"
      },
      "source": [
        "test_pred = model.predict(flatten_x_test)\n",
        "# test_pred.shape\n",
        "\n",
        "test_cls = np.argmax(test_pred, axis=1)\n",
        "# test_cls\n",
        "\n",
        "# plt.imshow(x_test[0])\n",
        "# test_cls[0]\n",
        "\n",
        "plt.imshow(x_test[2])\n",
        "test_cls[2]"
      ],
      "execution_count": null,
      "outputs": []
    },
    {
      "cell_type": "code",
      "metadata": {
        "id": "RcaJ54JJX452"
      },
      "source": [
        "class A()\n",
        "    # constructor : magic method\n",
        "    def __init__(self, )\n",
        "\n",
        "    # call function : magic method \n",
        "    def __call__(self, a)\n",
        "\n",
        "A()()"
      ],
      "execution_count": null,
      "outputs": []
    }
  ]
}